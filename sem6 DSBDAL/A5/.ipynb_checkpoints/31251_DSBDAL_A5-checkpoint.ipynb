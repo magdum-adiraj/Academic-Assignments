{
 "cells": [
  {
   "cell_type": "code",
   "execution_count": 1,
   "id": "4d9f5534",
   "metadata": {},
   "outputs": [],
   "source": [
    "import pandas as pd\n",
    "import seaborn as sns "
   ]
  },
  {
   "cell_type": "code",
   "execution_count": 8,
   "id": "fc021c54",
   "metadata": {},
   "outputs": [],
   "source": [
    "df = pd.read_csv(\"titanic.csv\")"
   ]
  },
  {
   "cell_type": "code",
   "execution_count": 10,
   "id": "2fa127a2",
   "metadata": {},
   "outputs": [
    {
     "name": "stdout",
     "output_type": "stream",
     "text": [
      "<class 'pandas.core.frame.DataFrame'>\n",
      "RangeIndex: 891 entries, 0 to 890\n",
      "Data columns (total 12 columns):\n",
      " #   Column       Non-Null Count  Dtype  \n",
      "---  ------       --------------  -----  \n",
      " 0   PassengerId  891 non-null    int64  \n",
      " 1   Survived     891 non-null    int64  \n",
      " 2   Pclass       891 non-null    int64  \n",
      " 3   Name         891 non-null    object \n",
      " 4   Sex          891 non-null    object \n",
      " 5   Age          714 non-null    float64\n",
      " 6   SibSp        891 non-null    int64  \n",
      " 7   Parch        891 non-null    int64  \n",
      " 8   Ticket       891 non-null    object \n",
      " 9   Fare         891 non-null    float64\n",
      " 10  Cabin        204 non-null    object \n",
      " 11  Embarked     889 non-null    object \n",
      "dtypes: float64(2), int64(5), object(5)\n",
      "memory usage: 83.7+ KB\n"
     ]
    }
   ],
   "source": [
    "df.info()"
   ]
  },
  {
   "cell_type": "code",
   "execution_count": 11,
   "id": "d07bac42",
   "metadata": {},
   "outputs": [
    {
     "name": "stdout",
     "output_type": "stream",
     "text": [
      "PassengerId    445.0000\n",
      "Survived         1.0000\n",
      "Pclass           1.0000\n",
      "Age             17.8750\n",
      "SibSp            1.0000\n",
      "Parch            0.0000\n",
      "Fare            23.0896\n",
      "dtype: float64\n"
     ]
    }
   ],
   "source": [
    "q1=df.quantile(0.25)\n",
    "q3=df.quantile(0.75)\n",
    "IQR=q3-q1\n",
    "print(IQR)"
   ]
  },
  {
   "cell_type": "code",
   "execution_count": 12,
   "id": "4a7a4c56",
   "metadata": {},
   "outputs": [
    {
     "name": "stdout",
     "output_type": "stream",
     "text": [
      "PassengerId   -444.0000\n",
      "Survived        -1.5000\n",
      "Pclass           0.5000\n",
      "Age             -6.6875\n",
      "SibSp           -1.5000\n",
      "Parch            0.0000\n",
      "Fare           -26.7240\n",
      "dtype: float64\n",
      "PassengerId    1336.0000\n",
      "Survived          2.5000\n",
      "Pclass            4.5000\n",
      "Age              64.8125\n",
      "SibSp             2.5000\n",
      "Parch             0.0000\n",
      "Fare             65.6344\n",
      "dtype: float64\n"
     ]
    }
   ],
   "source": [
    "LL= q1-(IQR*1.5)                 \n",
    "UL = q3+(IQR * 1.5)\n",
    "print(LL)\n",
    "print(UL)"
   ]
  },
  {
   "cell_type": "code",
   "execution_count": 13,
   "id": "ecba5c41",
   "metadata": {},
   "outputs": [
    {
     "name": "stdout",
     "output_type": "stream",
     "text": [
      "       Age  Cabin  Embarked   Fare   Name  Parch  PassengerId  Pclass    Sex  \\\n",
      "0    False  False     False  False  False  False        False   False  False   \n",
      "1    False  False     False  False  False  False        False   False  False   \n",
      "2    False  False     False  False  False  False        False   False  False   \n",
      "3    False  False     False  False  False  False        False   False  False   \n",
      "4    False  False     False  False  False  False        False   False  False   \n",
      "..     ...    ...       ...    ...    ...    ...          ...     ...    ...   \n",
      "886  False  False     False  False  False  False        False   False  False   \n",
      "887  False  False     False  False  False  False        False   False  False   \n",
      "888  False  False     False  False  False  False        False   False  False   \n",
      "889  False  False     False  False  False  False        False   False  False   \n",
      "890  False  False     False  False  False  False        False   False  False   \n",
      "\n",
      "     SibSp  Survived  Ticket  \n",
      "0    False     False   False  \n",
      "1    False     False   False  \n",
      "2    False     False   False  \n",
      "3    False     False   False  \n",
      "4    False     False   False  \n",
      "..     ...       ...     ...  \n",
      "886  False     False   False  \n",
      "887  False     False   False  \n",
      "888  False     False   False  \n",
      "889  False     False   False  \n",
      "890  False     False   False  \n",
      "\n",
      "[891 rows x 12 columns]\n"
     ]
    },
    {
     "name": "stderr",
     "output_type": "stream",
     "text": [
      "/tmp/ipykernel_4337/166686583.py:1: FutureWarning: Automatic reindexing on DataFrame vs Series comparisons is deprecated and will raise ValueError in a future version.  Do `left, right = left.align(right, axis=1, copy=False)` before e.g. `left == right`\n",
      "  lower= df<LL\n"
     ]
    }
   ],
   "source": [
    "lower= df<LL\n",
    "print(lower)"
   ]
  },
  {
   "cell_type": "code",
   "execution_count": 14,
   "id": "c9329d5c",
   "metadata": {},
   "outputs": [
    {
     "name": "stdout",
     "output_type": "stream",
     "text": [
      "       Age  Cabin  Embarked   Fare   Name  Parch  PassengerId  Pclass    Sex  \\\n",
      "0    False  False     False  False  False  False        False   False  False   \n",
      "1    False  False     False   True  False  False        False   False  False   \n",
      "2    False  False     False  False  False  False        False   False  False   \n",
      "3    False  False     False  False  False  False        False   False  False   \n",
      "4    False  False     False  False  False  False        False   False  False   \n",
      "..     ...    ...       ...    ...    ...    ...          ...     ...    ...   \n",
      "886  False  False     False  False  False  False        False   False  False   \n",
      "887  False  False     False  False  False  False        False   False  False   \n",
      "888  False  False     False  False  False   True        False   False  False   \n",
      "889  False  False     False  False  False  False        False   False  False   \n",
      "890  False  False     False  False  False  False        False   False  False   \n",
      "\n",
      "     SibSp  Survived  Ticket  \n",
      "0    False     False   False  \n",
      "1    False     False   False  \n",
      "2    False     False   False  \n",
      "3    False     False   False  \n",
      "4    False     False   False  \n",
      "..     ...       ...     ...  \n",
      "886  False     False   False  \n",
      "887  False     False   False  \n",
      "888  False     False   False  \n",
      "889  False     False   False  \n",
      "890  False     False   False  \n",
      "\n",
      "[891 rows x 12 columns]\n"
     ]
    },
    {
     "name": "stderr",
     "output_type": "stream",
     "text": [
      "/tmp/ipykernel_4337/3534953202.py:1: FutureWarning: Automatic reindexing on DataFrame vs Series comparisons is deprecated and will raise ValueError in a future version.  Do `left, right = left.align(right, axis=1, copy=False)` before e.g. `left == right`\n",
      "  upper=df>UL\n"
     ]
    }
   ],
   "source": [
    "upper=df>UL\n",
    "print(upper)"
   ]
  },
  {
   "cell_type": "code",
   "execution_count": 15,
   "id": "0d8c573f",
   "metadata": {},
   "outputs": [
    {
     "name": "stdout",
     "output_type": "stream",
     "text": [
      "     PassengerId  Survived  Pclass  \\\n",
      "0              1         0       3   \n",
      "2              3         1       3   \n",
      "3              4         1       1   \n",
      "4              5         0       3   \n",
      "5              6         0       3   \n",
      "..           ...       ...     ...   \n",
      "884          885         0       3   \n",
      "886          887         0       2   \n",
      "887          888         1       1   \n",
      "889          890         1       1   \n",
      "890          891         0       3   \n",
      "\n",
      "                                             Name     Sex   Age  SibSp  Parch  \\\n",
      "0                         Braund, Mr. Owen Harris    male  22.0      1      0   \n",
      "2                          Heikkinen, Miss. Laina  female  26.0      0      0   \n",
      "3    Futrelle, Mrs. Jacques Heath (Lily May Peel)  female  35.0      1      0   \n",
      "4                        Allen, Mr. William Henry    male  35.0      0      0   \n",
      "5                                Moran, Mr. James    male   NaN      0      0   \n",
      "..                                            ...     ...   ...    ...    ...   \n",
      "884                        Sutehall, Mr. Henry Jr    male  25.0      0      0   \n",
      "886                         Montvila, Rev. Juozas    male  27.0      0      0   \n",
      "887                  Graham, Miss. Margaret Edith  female  19.0      0      0   \n",
      "889                         Behr, Mr. Karl Howell    male  26.0      0      0   \n",
      "890                           Dooley, Mr. Patrick    male  32.0      0      0   \n",
      "\n",
      "               Ticket     Fare Cabin Embarked  \n",
      "0           A/5 21171   7.2500   NaN        S  \n",
      "2    STON/O2. 3101282   7.9250   NaN        S  \n",
      "3              113803  53.1000  C123        S  \n",
      "4              373450   8.0500   NaN        S  \n",
      "5              330877   8.4583   NaN        Q  \n",
      "..                ...      ...   ...      ...  \n",
      "884   SOTON/OQ 392076   7.0500   NaN        S  \n",
      "886            211536  13.0000   NaN        S  \n",
      "887            112053  30.0000   B42        S  \n",
      "889            111369  30.0000  C148        C  \n",
      "890            370376   7.7500   NaN        Q  \n",
      "\n",
      "[598 rows x 12 columns]\n"
     ]
    }
   ],
   "source": [
    "out=df[~(lower | upper).any(axis=1)]                                         #remove outliers\n",
    "df=out\n",
    "print(out)"
   ]
  },
  {
   "cell_type": "code",
   "execution_count": 18,
   "id": "edd372f5",
   "metadata": {},
   "outputs": [
    {
     "name": "stderr",
     "output_type": "stream",
     "text": [
      "/usr/local/lib/python3.8/site-packages/seaborn/_decorators.py:36: FutureWarning: Pass the following variables as keyword args: x, y. From version 0.12, the only valid positional argument will be `data`, and passing other arguments without an explicit keyword will result in an error or misinterpretation.\n",
      "  warnings.warn(\n"
     ]
    },
    {
     "data": {
      "text/plain": [
       "<AxesSubplot:xlabel='Age', ylabel='Sex'>"
      ]
     },
     "execution_count": 18,
     "metadata": {},
     "output_type": "execute_result"
    },
    {
     "data": {
      "image/png": "[encoded data removed]",
      "text/plain": [
       "<Figure size 640x480 with 1 Axes>"
      ]
     },
     "metadata": {},
     "output_type": "display_data"
    }
   ],
   "source": [
    "sns.boxplot( df['Age'], df['Sex'],hue=df['Survived'])"
   ]
  },
  {
   "cell_type": "code",
   "execution_count": null,
   "id": "550b227d",
   "metadata": {},
   "outputs": [],
   "source": []
  }
 ],
 "metadata": {
  "kernelspec": {
   "display_name": "Python 3 (ipykernel)",
   "language": "python",
   "name": "python3"
  },
  "language_info": {
   "codemirror_mode": {
    "name": "ipython",
    "version": 3
   },
   "file_extension": ".py",
   "mimetype": "text/x-python",
   "name": "python",
   "nbconvert_exporter": "python",
   "pygments_lexer": "ipython3",
   "version": "3.10.0"
  }
 },
 "nbformat": 4,
 "nbformat_minor": 5
}

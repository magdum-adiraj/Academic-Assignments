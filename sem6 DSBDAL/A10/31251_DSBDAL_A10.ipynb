{
 "cells": [
  {
   "cell_type": "code",
   "execution_count": 1,
   "id": "4bf2975c",
   "metadata": {},
   "outputs": [
    {
     "data": {
      "text/html": [
       "<div>\n",
       "<style scoped>\n",
       "    .dataframe tbody tr th:only-of-type {\n",
       "        vertical-align: middle;\n",
       "    }\n",
       "\n",
       "    .dataframe tbody tr th {\n",
       "        vertical-align: top;\n",
       "    }\n",
       "\n",
       "    .dataframe thead th {\n",
       "        text-align: right;\n",
       "    }\n",
       "</style>\n",
       "<table border=\"1\" class=\"dataframe\">\n",
       "  <thead>\n",
       "    <tr style=\"text-align: right;\">\n",
       "      <th></th>\n",
       "      <th>Id</th>\n",
       "      <th>SepalLengthCm</th>\n",
       "      <th>SepalWidthCm</th>\n",
       "      <th>PetalLengthCm</th>\n",
       "      <th>PetalWidthCm</th>\n",
       "      <th>Species</th>\n",
       "    </tr>\n",
       "  </thead>\n",
       "  <tbody>\n",
       "    <tr>\n",
       "      <th>0</th>\n",
       "      <td>1</td>\n",
       "      <td>5.1</td>\n",
       "      <td>3.5</td>\n",
       "      <td>1.4</td>\n",
       "      <td>0.2</td>\n",
       "      <td>Iris-setosa</td>\n",
       "    </tr>\n",
       "    <tr>\n",
       "      <th>1</th>\n",
       "      <td>2</td>\n",
       "      <td>4.9</td>\n",
       "      <td>3.0</td>\n",
       "      <td>1.4</td>\n",
       "      <td>0.2</td>\n",
       "      <td>Iris-setosa</td>\n",
       "    </tr>\n",
       "    <tr>\n",
       "      <th>2</th>\n",
       "      <td>3</td>\n",
       "      <td>4.7</td>\n",
       "      <td>3.2</td>\n",
       "      <td>1.3</td>\n",
       "      <td>0.2</td>\n",
       "      <td>Iris-setosa</td>\n",
       "    </tr>\n",
       "    <tr>\n",
       "      <th>3</th>\n",
       "      <td>4</td>\n",
       "      <td>4.6</td>\n",
       "      <td>3.1</td>\n",
       "      <td>1.5</td>\n",
       "      <td>0.2</td>\n",
       "      <td>Iris-setosa</td>\n",
       "    </tr>\n",
       "    <tr>\n",
       "      <th>4</th>\n",
       "      <td>5</td>\n",
       "      <td>5.0</td>\n",
       "      <td>3.6</td>\n",
       "      <td>1.4</td>\n",
       "      <td>0.2</td>\n",
       "      <td>Iris-setosa</td>\n",
       "    </tr>\n",
       "  </tbody>\n",
       "</table>\n",
       "</div>"
      ],
      "text/plain": [
       "   Id  SepalLengthCm  SepalWidthCm  PetalLengthCm  PetalWidthCm      Species\n",
       "0   1            5.1           3.5            1.4           0.2  Iris-setosa\n",
       "1   2            4.9           3.0            1.4           0.2  Iris-setosa\n",
       "2   3            4.7           3.2            1.3           0.2  Iris-setosa\n",
       "3   4            4.6           3.1            1.5           0.2  Iris-setosa\n",
       "4   5            5.0           3.6            1.4           0.2  Iris-setosa"
      ]
     },
     "execution_count": 1,
     "metadata": {},
     "output_type": "execute_result"
    }
   ],
   "source": [
    "import pandas as pd\n",
    "df=pd.read_csv('Iris.csv')\n",
    "df.head()"
   ]
  },
  {
   "cell_type": "code",
   "execution_count": 2,
   "id": "34529389",
   "metadata": {},
   "outputs": [
    {
     "name": "stdout",
     "output_type": "stream",
     "text": [
      "[ 1  1  1  1  1  3  2  1  1  0  1  1  0  0  1  3  3  2  2  2  1  3  1  4\n",
      "  1  1  3  1  1  1  1  3  0  1  0  1  1  0  1  1  2  2  1  5  3  2  1  1\n",
      "  1  1 10 11 11  9 11  9 12  6  9 10  6 11  6 10  9 10 11  6 11  7 14  9\n",
      " 11  8  9 10 10 13 11  6  7  6  8 12 11 12 11  9  9  9  8 10  8  6  9  8\n",
      "  9  9  7  9 21 15 17 14 18 17 13 14 14 21 16 15 17 16 20 19 14 18 19 11\n",
      " 19 16 16 14 17 14 14 14 17 12 15 16 18 11 10 19 20 14 14 17 20 19 15 19\n",
      " 21 19 15 16 19 14]\n"
     ]
    }
   ],
   "source": [
    "x=df.iloc[:,0:4].values\n",
    "y=df.iloc[:,4].values\n",
    "from sklearn.preprocessing import LabelEncoder\n",
    "le = LabelEncoder()\n",
    "y = le.fit_transform(y)\n",
    "print(y)"
   ]
  },
  {
   "cell_type": "code",
   "execution_count": 3,
   "id": "a639e8b4",
   "metadata": {},
   "outputs": [
    {
     "name": "stdout",
     "output_type": "stream",
     "text": [
      "[[ 62.    5.9   3.    4.2]\n",
      " [ 93.    5.8   2.6   4. ]\n",
      " [113.    6.8   3.    5.5]\n",
      " [  3.    4.7   3.2   1.3]\n",
      " [142.    6.9   3.1   5.1]\n",
      " [ 44.    5.    3.5   1.6]\n",
      " [ 11.    5.4   3.7   1.5]\n",
      " [ 61.    5.    2.    3.5]\n",
      " [117.    6.5   3.    5.5]\n",
      " [145.    6.7   3.3   5.7]\n",
      " [120.    6.    2.2   5. ]\n",
      " [109.    6.7   2.5   5.8]\n",
      " [ 70.    5.6   2.5   3.9]\n",
      " [136.    7.7   3.    6.1]\n",
      " [ 57.    6.3   3.3   4.7]\n",
      " [ 81.    5.5   2.4   3.8]\n",
      " [124.    6.3   2.7   4.9]\n",
      " [134.    6.3   2.8   5.1]\n",
      " [107.    4.9   2.5   4.5]\n",
      " [147.    6.3   2.5   5. ]\n",
      " [ 51.    7.    3.2   4.7]\n",
      " [148.    6.5   3.    5.2]\n",
      " [ 86.    6.    3.4   4.5]\n",
      " [ 31.    4.8   3.1   1.6]\n",
      " [102.    5.8   2.7   5.1]\n",
      " [ 95.    5.6   2.7   4.2]\n",
      " [ 65.    5.6   2.9   3.6]\n",
      " [ 90.    5.5   2.5   4. ]\n",
      " [ 92.    6.1   3.    4.6]\n",
      " [126.    7.2   3.2   6. ]\n",
      " [ 49.    5.3   3.7   1.5]\n",
      " [ 14.    4.3   3.    1.1]\n",
      " [112.    6.4   2.7   5.3]\n",
      " [ 96.    5.7   3.    4.2]\n",
      " [ 21.    5.4   3.4   1.7]\n",
      " [ 16.    5.7   4.4   1.5]\n",
      " [ 53.    6.9   3.1   4.9]\n",
      " [  4.    4.6   3.1   1.5]\n",
      " [150.    5.9   3.    5.1]\n",
      " [ 99.    5.1   2.5   3. ]\n",
      " [  7.    4.6   3.4   1.4]\n",
      " [ 69.    6.2   2.2   4.5]\n",
      " [110.    7.2   3.6   6.1]\n",
      " [ 97.    5.7   2.9   4.2]\n",
      " [ 13.    4.8   3.    1.4]\n",
      " [103.    7.1   3.    5.9]\n",
      " [121.    6.9   3.2   5.7]\n",
      " [105.    6.5   3.    5.8]\n",
      " [129.    6.4   2.8   5.6]\n",
      " [ 47.    5.1   3.8   1.6]\n",
      " [ 12.    4.8   3.4   1.6]\n",
      " [111.    6.5   3.2   5.1]\n",
      " [125.    6.7   3.3   5.7]\n",
      " [ 42.    4.5   2.3   1.3]\n",
      " [149.    6.2   3.4   5.4]\n",
      " [  2.    4.9   3.    1.4]\n",
      " [114.    5.7   2.5   5. ]\n",
      " [140.    6.9   3.1   5.4]\n",
      " [ 43.    4.4   3.2   1.3]\n",
      " [  5.    5.    3.6   1.4]\n",
      " [130.    7.2   3.    5.8]\n",
      " [ 18.    5.1   3.5   1.4]\n",
      " [ 39.    4.4   3.    1.3]\n",
      " [  6.    5.4   3.9   1.7]\n",
      " [ 54.    5.5   2.3   4. ]\n",
      " [144.    6.8   3.2   5.9]\n",
      " [106.    7.6   3.    6.6]\n",
      " [  1.    5.1   3.5   1.4]\n",
      " [ 35.    4.9   3.1   1.5]\n",
      " [ 29.    5.2   3.4   1.4]\n",
      " [ 56.    5.7   2.8   4.5]\n",
      " [ 76.    6.6   3.    4.4]\n",
      " [ 36.    5.    3.2   1.2]\n",
      " [ 24.    5.1   3.3   1.7]\n",
      " [ 75.    6.4   2.9   4.3]\n",
      " [ 32.    5.4   3.4   1.5]\n",
      " [119.    7.7   2.6   6.9]\n",
      " [ 58.    4.9   2.4   3.3]\n",
      " [132.    7.9   3.8   6.4]\n",
      " [ 66.    6.7   3.1   4.4]\n",
      " [ 33.    5.2   4.1   1.5]\n",
      " [139.    6.    3.    4.8]\n",
      " [ 15.    5.8   4.    1.2]\n",
      " [123.    7.7   2.8   6.7]\n",
      " [ 20.    5.1   3.8   1.5]\n",
      " [ 30.    4.7   3.2   1.6]\n",
      " [131.    7.4   2.8   6.1]\n",
      " [ 50.    5.    3.3   1.4]\n",
      " [137.    6.3   3.4   5.6]\n",
      " [100.    5.7   2.8   4.1]\n",
      " [ 83.    5.8   2.7   3.9]\n",
      " [ 80.    5.7   2.6   3.5]\n",
      " [116.    6.4   3.2   5.3]\n",
      " [146.    6.7   3.    5.2]\n",
      " [ 73.    6.3   2.5   4.9]\n",
      " [ 78.    6.7   3.    5. ]\n",
      " [ 26.    5.    3.    1.6]\n",
      " [ 82.    5.5   2.4   3.7]\n",
      " [141.    6.7   3.1   5.6]\n",
      " [143.    5.8   2.7   5.1]\n",
      " [ 40.    5.1   3.4   1.5]\n",
      " [ 59.    6.6   2.9   4.6]\n",
      " [ 89.    5.6   3.    4.1]\n",
      " [ 71.    5.9   3.2   4.8]\n",
      " [ 88.    6.3   2.3   4.4]\n",
      " [ 37.    5.5   3.5   1.3]\n",
      " [ 22.    5.1   3.7   1.5]\n",
      " [ 10.    4.9   3.1   1.5]\n",
      " [104.    6.3   2.9   5.6]\n",
      " [ 68.    5.8   2.7   4.1]\n",
      " [118.    7.7   3.8   6.7]\n",
      " [ 48.    4.6   3.2   1.4]]\n"
     ]
    }
   ],
   "source": [
    "from sklearn.model_selection import train_test_split\n",
    "X_train,X_test,y_train,y_test=train_test_split(x,y,test_size=0.25,random_state=0)\n",
    "print(X_train)"
   ]
  },
  {
   "cell_type": "code",
   "execution_count": 6,
   "id": "fb4dcf49",
   "metadata": {},
   "outputs": [
    {
     "name": "stdout",
     "output_type": "stream",
     "text": [
      "Confusion matrix for Naive Bayes\n",
      " [[0 1 0 0 0 0 0 0 0 0 0 0 0 0 0 0 0 0]\n",
      " [1 3 1 1 0 0 0 0 0 0 0 0 0 0 0 0 0 0]\n",
      " [0 2 0 1 0 0 0 0 0 0 0 0 0 0 0 0 0 0]\n",
      " [0 3 0 0 0 0 0 0 0 0 0 0 0 0 0 0 0 0]\n",
      " [0 0 0 0 1 0 1 0 0 0 0 0 0 0 0 0 0 0]\n",
      " [0 0 0 0 0 0 1 0 1 0 0 0 0 0 0 0 0 0]\n",
      " [0 0 0 0 0 0 2 0 0 0 0 0 0 0 0 0 0 0]\n",
      " [0 0 0 0 1 0 0 0 2 0 0 1 0 0 0 0 0 0]\n",
      " [0 0 0 0 0 0 3 2 1 0 0 0 0 0 0 0 0 0]\n",
      " [0 0 0 0 0 0 0 0 1 0 0 0 0 0 0 0 0 0]\n",
      " [0 0 0 0 0 0 0 0 0 0 2 0 0 1 0 1 0 0]\n",
      " [0 0 0 0 0 0 0 0 0 0 0 0 0 0 0 0 0 0]\n",
      " [0 0 0 0 0 0 0 0 0 0 0 1 0 0 0 0 0 0]\n",
      " [0 0 0 0 0 0 0 0 0 0 0 0 0 0 0 0 0 0]\n",
      " [0 0 0 0 0 0 0 0 0 0 1 0 0 0 0 0 0 0]\n",
      " [0 0 0 0 0 0 0 0 0 0 0 0 0 0 0 0 0 0]\n",
      " [0 0 0 0 0 0 0 0 0 0 1 0 0 0 0 0 0 0]\n",
      " [0 0 0 0 0 0 0 0 0 0 1 0 0 0 0 0 0 0]]\n"
     ]
    }
   ],
   "source": [
    "from sklearn.naive_bayes import GaussianNB\n",
    "from sklearn.metrics import confusion_matrix\n",
    "gaussian = GaussianNB()\n",
    "gaussian.fit(X_train, y_train)\n",
    "Y_pred = gaussian.predict(X_test) \n",
    "cm = confusion_matrix(y_test, Y_pred)\n",
    "print('Confusion matrix for Naive Bayes\\n',cm)"
   ]
  },
  {
   "cell_type": "code",
   "execution_count": 7,
   "id": "5f34f4df",
   "metadata": {},
   "outputs": [
    {
     "name": "stdout",
     "output_type": "stream",
     "text": [
      "accuracy_Naive Bayes: 0.237\n"
     ]
    }
   ],
   "source": [
    "from sklearn.metrics import accuracy_score\n",
    "accuracy = accuracy_score(y_test,Y_pred)\n",
    "print('accuracy_Naive Bayes: %.3f' %accuracy)\n"
   ]
  },
  {
   "cell_type": "code",
   "execution_count": 8,
   "id": "8f20fed3",
   "metadata": {},
   "outputs": [
    {
     "name": "stdout",
     "output_type": "stream",
     "text": [
      "precision_Naive Bayes: 0.237\n"
     ]
    }
   ],
   "source": [
    "from sklearn.metrics import precision_score\n",
    "precision =precision_score(y_test, Y_pred,average='micro')\n",
    "print('precision_Naive Bayes: %.3f' %precision)"
   ]
  },
  {
   "cell_type": "code",
   "execution_count": 9,
   "id": "680f4bde",
   "metadata": {},
   "outputs": [
    {
     "name": "stdout",
     "output_type": "stream",
     "text": [
      "recall_Naive Bayes: 0.237\n"
     ]
    }
   ],
   "source": [
    "from sklearn.metrics import recall_score\n",
    "recall =  recall_score(y_test, Y_pred,average='micro')\n",
    "print('recall_Naive Bayes: %.3f' %recall)"
   ]
  },
  {
   "cell_type": "code",
   "execution_count": 11,
   "id": "5cb2b6b2",
   "metadata": {},
   "outputs": [
    {
     "name": "stdout",
     "output_type": "stream",
     "text": [
      "f1-score_Naive Bayes : 0.237\n"
     ]
    }
   ],
   "source": [
    "from sklearn.metrics import f1_score\n",
    "f1 = f1_score(y_test,Y_pred,average='micro')\n",
    "print('f1-score_Naive Bayes : %.3f' %f1)"
   ]
  },
  {
   "cell_type": "code",
   "execution_count": 18,
   "id": "949d0757",
   "metadata": {},
   "outputs": [
    {
     "name": "stdout",
     "output_type": "stream",
     "text": [
      "Error Rate: 0.763\n"
     ]
    }
   ],
   "source": [
    "error_rate=1-accuracy\n",
    "print('Error Rate: %.3f' %error_rate)"
   ]
  },
  {
   "cell_type": "code",
   "execution_count": null,
   "id": "232867f0",
   "metadata": {},
   "outputs": [],
   "source": []
  }
 ],
 "metadata": {
  "kernelspec": {
   "display_name": "Python 3 (ipykernel)",
   "language": "python",
   "name": "python3"
  },
  "language_info": {
   "codemirror_mode": {
    "name": "ipython",
    "version": 3
   },
   "file_extension": ".py",
   "mimetype": "text/x-python",
   "name": "python",
   "nbconvert_exporter": "python",
   "pygments_lexer": "ipython3",
   "version": "3.10.0"
  }
 },
 "nbformat": 4,
 "nbformat_minor": 5
}

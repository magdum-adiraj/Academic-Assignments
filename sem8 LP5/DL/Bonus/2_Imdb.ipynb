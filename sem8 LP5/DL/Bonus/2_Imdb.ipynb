{
 "cells": [
  {
   "cell_type": "code",
   "execution_count": 18,
   "metadata": {},
   "outputs": [],
   "source": [
    "from keras.datasets import imdb"
   ]
  },
  {
   "cell_type": "code",
   "execution_count": 89,
   "metadata": {},
   "outputs": [],
   "source": [
    "(train_data,train_label),(test_data,test_label) = imdb.load_data(num_words=10000)"
   ]
  },
  {
   "cell_type": "code",
   "execution_count": 21,
   "metadata": {},
   "outputs": [],
   "source": [
    "import numpy as np\n",
    "\n",
    "def vectorize_sequences(sequences,dimensions=10000):\n",
    "    results = np.zeros((len(sequences),dimensions))\n",
    "    for i,sequence in enumerate(sequences):\n",
    "        results[i,sequence]=1\n",
    "        \n",
    "    return results\n",
    "\n",
    "x_train = vectorize_sequences(train_data)\n",
    "x_test = vectorize_sequences(test_data)"
   ]
  },
  {
   "cell_type": "code",
   "execution_count": 22,
   "metadata": {},
   "outputs": [],
   "source": [
    "y_train = np.asarray(train_label).astype('float32')\n",
    "y_test= np.asarray(test_label).astype('float32')"
   ]
  },
  {
   "cell_type": "code",
   "execution_count": 23,
   "metadata": {},
   "outputs": [],
   "source": [
    "from keras.models import Sequential\n",
    "from keras.layers import Dense"
   ]
  },
  {
   "cell_type": "code",
   "execution_count": 24,
   "metadata": {},
   "outputs": [],
   "source": [
    "model = Sequential()\n",
    "\n",
    "model.add(Dense(16,input_shape=(10000,),activation='relu'))\n",
    "model.add(Dense(16,activation = 'relu'))\n",
    "model.add(Dense(1,activation = 'sigmoid'))"
   ]
  },
  {
   "cell_type": "code",
   "execution_count": 25,
   "metadata": {},
   "outputs": [],
   "source": [
    "model.compile(optimizer='adam',loss='mse',metrics=['accuracy'])"
   ]
  },
  {
   "cell_type": "code",
   "execution_count": 26,
   "metadata": {},
   "outputs": [
    {
     "name": "stdout",
     "output_type": "stream",
     "text": [
      "Model: \"sequential_2\"\n",
      "_________________________________________________________________\n",
      "Layer (type)                 Output Shape              Param #   \n",
      "=================================================================\n",
      "dense_4 (Dense)              (None, 16)                160016    \n",
      "_________________________________________________________________\n",
      "dense_5 (Dense)              (None, 16)                272       \n",
      "_________________________________________________________________\n",
      "dense_6 (Dense)              (None, 1)                 17        \n",
      "=================================================================\n",
      "Total params: 160,305\n",
      "Trainable params: 160,305\n",
      "Non-trainable params: 0\n",
      "_________________________________________________________________\n"
     ]
    }
   ],
   "source": [
    "model.summary()"
   ]
  },
  {
   "cell_type": "code",
   "execution_count": 27,
   "metadata": {},
   "outputs": [
    {
     "name": "stdout",
     "output_type": "stream",
     "text": [
      "Train on 20000 samples, validate on 5000 samples\n",
      "Epoch 1/20\n",
      "20000/20000 [==============================] - 2s 123us/step - loss: 0.1786 - accuracy: 0.7895 - val_loss: 0.1132 - val_accuracy: 0.8730\n",
      "Epoch 2/20\n",
      "20000/20000 [==============================] - 2s 95us/step - loss: 0.0816 - accuracy: 0.9056 - val_loss: 0.0847 - val_accuracy: 0.8912\n",
      "Epoch 3/20\n",
      "20000/20000 [==============================] - 2s 84us/step - loss: 0.0555 - accuracy: 0.9379 - val_loss: 0.0809 - val_accuracy: 0.8938\n",
      "Epoch 4/20\n",
      "20000/20000 [==============================] - 2s 78us/step - loss: 0.0431 - accuracy: 0.9538 - val_loss: 0.0807 - val_accuracy: 0.8916\n",
      "Epoch 5/20\n",
      "20000/20000 [==============================] - 2s 84us/step - loss: 0.0351 - accuracy: 0.9636 - val_loss: 0.0831 - val_accuracy: 0.8876\n",
      "Epoch 6/20\n",
      "20000/20000 [==============================] - 2s 79us/step - loss: 0.0286 - accuracy: 0.9722 - val_loss: 0.0852 - val_accuracy: 0.8864\n",
      "Epoch 7/20\n",
      "20000/20000 [==============================] - 2s 79us/step - loss: 0.0240 - accuracy: 0.9782 - val_loss: 0.0880 - val_accuracy: 0.8804\n",
      "Epoch 8/20\n",
      "20000/20000 [==============================] - 2s 81us/step - loss: 0.0191 - accuracy: 0.9843 - val_loss: 0.0909 - val_accuracy: 0.8800\n",
      "Epoch 9/20\n",
      "20000/20000 [==============================] - 2s 79us/step - loss: 0.0155 - accuracy: 0.9882 - val_loss: 0.0929 - val_accuracy: 0.8786\n",
      "Epoch 10/20\n",
      "20000/20000 [==============================] - 2s 79us/step - loss: 0.0128 - accuracy: 0.9908 - val_loss: 0.0942 - val_accuracy: 0.8766\n",
      "Epoch 11/20\n",
      "20000/20000 [==============================] - 2s 80us/step - loss: 0.0106 - accuracy: 0.9920 - val_loss: 0.0961 - val_accuracy: 0.8770\n",
      "Epoch 12/20\n",
      "20000/20000 [==============================] - 2s 80us/step - loss: 0.0091 - accuracy: 0.9930 - val_loss: 0.0971 - val_accuracy: 0.8764\n",
      "Epoch 13/20\n",
      "20000/20000 [==============================] - 2s 78us/step - loss: 0.0081 - accuracy: 0.9937 - val_loss: 0.0984 - val_accuracy: 0.8748\n",
      "Epoch 14/20\n",
      "20000/20000 [==============================] - 2s 81us/step - loss: 0.0074 - accuracy: 0.9939 - val_loss: 0.0994 - val_accuracy: 0.8760\n",
      "Epoch 15/20\n",
      "20000/20000 [==============================] - 2s 79us/step - loss: 0.0068 - accuracy: 0.9941 - val_loss: 0.1002 - val_accuracy: 0.8752\n",
      "Epoch 16/20\n",
      "20000/20000 [==============================] - 2s 79us/step - loss: 0.0063 - accuracy: 0.9945 - val_loss: 0.1010 - val_accuracy: 0.8750\n",
      "Epoch 17/20\n",
      "20000/20000 [==============================] - 2s 80us/step - loss: 0.0059 - accuracy: 0.9949 - val_loss: 0.1018 - val_accuracy: 0.8736\n",
      "Epoch 18/20\n",
      "20000/20000 [==============================] - 2s 79us/step - loss: 0.0057 - accuracy: 0.9949 - val_loss: 0.1026 - val_accuracy: 0.8748\n",
      "Epoch 19/20\n",
      "20000/20000 [==============================] - 2s 82us/step - loss: 0.0055 - accuracy: 0.9951 - val_loss: 0.1031 - val_accuracy: 0.8740\n",
      "Epoch 20/20\n",
      "20000/20000 [==============================] - 2s 81us/step - loss: 0.0053 - accuracy: 0.9952 - val_loss: 0.1037 - val_accuracy: 0.8742\n"
     ]
    }
   ],
   "source": [
    "history = model.fit(x_train,y_train,validation_split=0.2,epochs=20,verbose=1,batch_size=512)"
   ]
  },
  {
   "cell_type": "code",
   "execution_count": 28,
   "metadata": {},
   "outputs": [
    {
     "name": "stdout",
     "output_type": "stream",
     "text": [
      "25000/25000 [==============================] - 7s 267us/step\n",
      "MSE  0.11572637703329325\n",
      "MAE  0.85971999168396\n"
     ]
    }
   ],
   "source": [
    "mse,mae = model.evaluate(x_test,y_test)\n",
    "\n",
    "print('MSE ',mse)\n",
    "print('MAE ',mae)"
   ]
  },
  {
   "cell_type": "code",
   "execution_count": 30,
   "metadata": {},
   "outputs": [],
   "source": [
    "y_preds = model.predict(x_test)"
   ]
  },
  {
   "cell_type": "code",
   "execution_count": 31,
   "metadata": {},
   "outputs": [
    {
     "data": {
      "text/plain": [
       "array([[0.0640597 ],\n",
       "       [0.9999962 ],\n",
       "       [0.38620174],\n",
       "       ...,\n",
       "       [0.18741289],\n",
       "       [0.00386399],\n",
       "       [0.25711626]], dtype=float32)"
      ]
     },
     "execution_count": 31,
     "metadata": {},
     "output_type": "execute_result"
    }
   ],
   "source": [
    "y_preds"
   ]
  },
  {
   "cell_type": "code",
   "execution_count": 32,
   "metadata": {},
   "outputs": [
    {
     "data": {
      "text/plain": [
       "array([0., 1., 1., ..., 0., 0., 0.], dtype=float32)"
      ]
     },
     "execution_count": 32,
     "metadata": {},
     "output_type": "execute_result"
    }
   ],
   "source": [
    "y_test"
   ]
  },
  {
   "cell_type": "code",
   "execution_count": 38,
   "metadata": {},
   "outputs": [],
   "source": [
    "tests=[]\n",
    "for i in y_test:\n",
    "    tests.append(int(i))"
   ]
  },
  {
   "cell_type": "code",
   "execution_count": 39,
   "metadata": {},
   "outputs": [],
   "source": [
    "preds=[]\n",
    "for i in y_preds:\n",
    "    if i[0]>0.5:\n",
    "        preds.append(1)\n",
    "    else:\n",
    "        preds.append(0)"
   ]
  },
  {
   "cell_type": "code",
   "execution_count": 41,
   "metadata": {},
   "outputs": [
    {
     "name": "stdout",
     "output_type": "stream",
     "text": [
      "0.85972\n",
      "0.8706008406824364\n",
      "0.84504\n"
     ]
    }
   ],
   "source": [
    "from sklearn.metrics import accuracy_score,precision_score,recall_score\n",
    "\n",
    "print(accuracy_score(tests,preds))\n",
    "print(precision_score(tests,preds))\n",
    "print(recall_score(tests,preds))"
   ]
  },
  {
   "cell_type": "code",
   "execution_count": null,
   "metadata": {},
   "outputs": [],
   "source": [
    "# word_index is a dictionary mapping words to an integer index\n",
    "word_index = imdb.get_word_index()"
   ]
  },
  {
   "cell_type": "code",
   "execution_count": 68,
   "metadata": {},
   "outputs": [],
   "source": [
    "def return_token(tid):\n",
    "    for k,v in word_index.items():\n",
    "        # We decode the review; note that our indices were offset by 3\n",
    "        # because 0, 1 and 2 are reserved indices for \"padding\", \"start of sequence\", and \"unknown\".\n",
    "        if v==tid-3:\n",
    "            return k\n",
    "    return '?'"
   ]
  },
  {
   "cell_type": "code",
   "execution_count": 80,
   "metadata": {},
   "outputs": [],
   "source": [
    "def print_review(id_):\n",
    "    sentence = ' '.join(return_token(i) for i in train_data[id_])\n",
    "    return sentence"
   ]
  },
  {
   "cell_type": "code",
   "execution_count": 81,
   "metadata": {},
   "outputs": [
    {
     "data": {
      "text/plain": [
       "\"? this film was just brilliant casting location scenery story direction everyone's really suited the part they played and you could just imagine being there robert ? is an amazing actor and now the same being director ? father came from the same scottish island as myself so i loved the fact there was a real connection with this film the witty remarks throughout the film were great it was just brilliant so much that i bought the film as soon as it was released for ? and would recommend it to everyone to watch and the fly fishing was amazing really cried at the end it was so sad and you know what they say if you cry at a film it must have been good and this definitely was also ? to the two little boy's that played the ? of norman and paul they were just brilliant children are often left out of the ? list i think because the stars that play them all grown up are such a big profile for the whole film but these children are amazing and should be praised for what they have done don't you think the whole story was so lovely because it was true and was someone's life after all that was shared with us all\""
      ]
     },
     "execution_count": 81,
     "metadata": {},
     "output_type": "execute_result"
    }
   ],
   "source": [
    "print_review(0)"
   ]
  },
  {
   "cell_type": "code",
   "execution_count": 82,
   "metadata": {},
   "outputs": [
    {
     "data": {
      "text/plain": [
       "1"
      ]
     },
     "execution_count": 82,
     "metadata": {},
     "output_type": "execute_result"
    }
   ],
   "source": [
    "train_label[0] #Positive"
   ]
  },
  {
   "cell_type": "code",
   "execution_count": 83,
   "metadata": {},
   "outputs": [
    {
     "data": {
      "text/plain": [
       "\"? big hair big boobs bad music and a giant safety pin these are the words to best describe this terrible movie i love cheesy horror movies and i've seen hundreds but this had got to be on of the worst ever made the plot is paper thin and ridiculous the acting is an abomination the script is completely laughable the best is the end showdown with the cop and how he worked out who the killer is it's just so damn terribly written the clothes are sickening and funny in equal ? the hair is big lots of boobs ? men wear those cut ? shirts that show off their ? sickening that men actually wore them and the music is just ? trash that plays over and over again in almost every scene there is trashy music boobs and ? taking away bodies and the gym still doesn't close for ? all joking aside this is a truly bad film whose only charm is to look back on the disaster that was the 80's and have a good old laugh at how bad everything was back then\""
      ]
     },
     "execution_count": 83,
     "metadata": {},
     "output_type": "execute_result"
    }
   ],
   "source": [
    "print_review(1)"
   ]
  },
  {
   "cell_type": "code",
   "execution_count": 84,
   "metadata": {},
   "outputs": [
    {
     "data": {
      "text/plain": [
       "0"
      ]
     },
     "execution_count": 84,
     "metadata": {},
     "output_type": "execute_result"
    }
   ],
   "source": [
    "train_label[1] # Negaive"
   ]
  },
  {
   "cell_type": "code",
   "execution_count": 85,
   "metadata": {},
   "outputs": [
    {
     "data": {
      "text/plain": [
       "\"? this has to be one of the worst films of the 1990s when my friends i were watching this film being the target audience it was aimed at we just sat watched the first half an hour with our jaws touching the floor at how bad it really was the rest of the time everyone else in the theatre just started talking to each other leaving or generally crying into their popcorn that they actually paid money they had ? working to watch this feeble excuse for a film it must have looked like a great idea on paper but on film it looks like no one in the film has a clue what is going on crap acting crap costumes i can't get across how ? this is to watch save yourself an hour a bit of your life\""
      ]
     },
     "execution_count": 85,
     "metadata": {},
     "output_type": "execute_result"
    }
   ],
   "source": [
    "print_review(2)"
   ]
  },
  {
   "cell_type": "code",
   "execution_count": 86,
   "metadata": {},
   "outputs": [
    {
     "data": {
      "text/plain": [
       "0"
      ]
     },
     "execution_count": 86,
     "metadata": {},
     "output_type": "execute_result"
    }
   ],
   "source": [
    "train_label[2] # Negaive"
   ]
  },
  {
   "cell_type": "code",
   "execution_count": null,
   "metadata": {},
   "outputs": [],
   "source": []
  }
 ],
 "metadata": {
  "kernelspec": {
   "display_name": "Python 3",
   "language": "python",
   "name": "python3"
  },
  "language_info": {
   "codemirror_mode": {
    "name": "ipython",
    "version": 3
   },
   "file_extension": ".py",
   "mimetype": "text/x-python",
   "name": "python",
   "nbconvert_exporter": "python",
   "pygments_lexer": "ipython3",
   "version": "3.7.9"
  }
 },
 "nbformat": 4,
 "nbformat_minor": 4
}
